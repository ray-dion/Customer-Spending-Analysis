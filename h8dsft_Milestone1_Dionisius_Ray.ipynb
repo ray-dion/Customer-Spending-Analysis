{
 "cells": [
  {
   "cell_type": "markdown",
   "metadata": {},
   "source": [
    "Link dashboard tableau: https://public.tableau.com/views/Milestones1_17393585197170/Dashboard1?:language=en-US&publish=yes&:sid=&:redirect=auth&:display_count=n&:origin=viz_share_link"
   ]
  },
  {
   "cell_type": "markdown",
   "metadata": {},
   "source": [
    "# I. Perkenalan"
   ]
  },
  {
   "cell_type": "markdown",
   "metadata": {},
   "source": [
    "<p>=================================================<br>\n",
    "Milestones Project<br>\n",
    "<br>\n",
    "Nama  : Dionisius Ray<br>\n",
    "Batch : HCK - 025<br>\n",
    "<br>\n",
    "Produk ini dibuat untuk menganalisis data transaksi sebuah supermarket untuk pembuatan promo kartu kredit yang dapat menarik nasabah baru.<br>\n",
    "=================================================</p>"
   ]
  },
  {
   "cell_type": "markdown",
   "metadata": {},
   "source": [
    "# II. Identifikasi Masalah"
   ]
  },
  {
   "cell_type": "markdown",
   "metadata": {},
   "source": [
    "## Topik"
   ]
  },
  {
   "cell_type": "markdown",
   "metadata": {},
   "source": [
    "<p>Pembuatan Promo</p>"
   ]
  },
  {
   "cell_type": "markdown",
   "metadata": {},
   "source": [
    "## Latar Belakang"
   ]
  },
  {
   "cell_type": "markdown",
   "metadata": {},
   "source": [
    "<p>Sebagai tim data analitik di sebuah bank, tim data diminta untuk mendukung tim promosi membuat promo untuk kartu kredit dengan menganalisis data transaksi dari sebuah supermarket. Bank berencana menjalin kolaborasi promosi dengan supermarket tersebut, dan tugas tim data analitik adalah menganalisis berbagai transaksi.</p>"
   ]
  },
  {
   "cell_type": "markdown",
   "metadata": {},
   "source": [
    "## SMART"
   ]
  },
  {
   "cell_type": "markdown",
   "metadata": {},
   "source": [
    "<ul>\n",
    "    <li>Specific</li>\n",
    "    <p>Meningkatkan jumlah nasabah bank dengan menganalisis data transaksi sebagai pendoman dalam penyusunan promo pembelian produk menggunakan kartu kredit.</p>\n",
    "    <li>Measurable</li>\n",
    "    <p>Meningkatkan jumlah nasabah bank sebesar 10%.</p>\n",
    "    <li>Achievable</li>\n",
    "    <p>Dengan hasil analisis, tim data analitik dapat mengidentifikasi pola pengeluaran dan preferensi konsumen untuk menghasilkan data yang dapat membantu tim promosi dalam pembentukan promo.</p>\n",
    "    <li>Relevant</li>\n",
    "    <p>Dengan pembuatan promo baru, pihak bank akan mendapatkan nasabah baru.</p>\n",
    "    <li>Time-Bound</li>\n",
    "    <p>Target peningkatan nasabah sebesar 10% dapat dicapai dalam jangka waktu tiga bulan.</p>\n",
    "</ul>"
   ]
  },
  {
   "cell_type": "markdown",
   "metadata": {},
   "source": [
    "## Problem Statement"
   ]
  },
  {
   "cell_type": "markdown",
   "metadata": {},
   "source": [
    "<p>Bagaimana cara meningkatkan nasabah baru sebesar 10% dalam 3 bulan dengan menggunakan hasil analisis data untuk penyusunan promo pembayaran melalui kartu kredit baru?</p>"
   ]
  },
  {
   "cell_type": "markdown",
   "metadata": {},
   "source": [
    "## Penjabaran Masalah"
   ]
  },
  {
   "cell_type": "markdown",
   "metadata": {},
   "source": [
    "<ol>\n",
    "    <li>Dari semua transaksi yang terjadi, bagaimana persentase distribusi metode pembayaran yang digunakan? (Visualisasi)</li>\n",
    "    <li>Kategori apa yang manghasilkan total spend terbanyak dari seluruh metode pembayaran? (Visualisasi)</li>\n",
    "    <li>Bagaimana Tren Data Pembelian Produk per Kuarter (Visualisasi)</li>\n",
    "    <li>Bagaimana distribusi transaksi yang terjadi di setiap tipe lokasi? (Visualisasi)</li>\n",
    "    <li>Bagaimana distribusi transaksi yang terjadi berdasarkan setiap metode pembayaran? (Visualisasi)</li>\n",
    "    <li>Apakah ada perbedaan signifikan total spend pada tipe transaksi yang menggunakan kartu kredit dibandingkan dengan yang tidak? \n",
    "    <br>(Statistika Deskriptif dan Inferensial)</li>\n",
    "</ol>"
   ]
  },
  {
   "cell_type": "markdown",
   "metadata": {},
   "source": [
    "# III. Data Exploration/Loading"
   ]
  },
  {
   "cell_type": "markdown",
   "metadata": {},
   "source": [
    "## Inisialisasi dan Import"
   ]
  },
  {
   "cell_type": "code",
   "execution_count": null,
   "metadata": {},
   "outputs": [],
   "source": [
    "# Cell untuk mengimport library yang akan digunakan\n",
    "\n",
    "import pandas as pd\n",
    "import matplotlib.pyplot as plt\n",
    "import plotly.express as px\n",
    "from scipy import stats"
   ]
  },
  {
   "cell_type": "code",
   "execution_count": null,
   "metadata": {},
   "outputs": [
    {
     "data": {
      "text/html": [
       "<div>\n",
       "<style scoped>\n",
       "    .dataframe tbody tr th:only-of-type {\n",
       "        vertical-align: middle;\n",
       "    }\n",
       "\n",
       "    .dataframe tbody tr th {\n",
       "        vertical-align: top;\n",
       "    }\n",
       "\n",
       "    .dataframe thead th {\n",
       "        text-align: right;\n",
       "    }\n",
       "</style>\n",
       "<table border=\"1\" class=\"dataframe\">\n",
       "  <thead>\n",
       "    <tr style=\"text-align: right;\">\n",
       "      <th></th>\n",
       "      <th>Customer ID</th>\n",
       "      <th>Category</th>\n",
       "      <th>Item</th>\n",
       "      <th>Quantity</th>\n",
       "      <th>Price Per Unit</th>\n",
       "      <th>Total Spent</th>\n",
       "      <th>Payment Method</th>\n",
       "      <th>Location</th>\n",
       "      <th>Transaction Date</th>\n",
       "    </tr>\n",
       "  </thead>\n",
       "  <tbody>\n",
       "    <tr>\n",
       "      <th>0</th>\n",
       "      <td>CUST_0159</td>\n",
       "      <td>Groceries</td>\n",
       "      <td>Milk</td>\n",
       "      <td>1</td>\n",
       "      <td>1.28</td>\n",
       "      <td>1.28</td>\n",
       "      <td>Debit Card</td>\n",
       "      <td>Mobile App</td>\n",
       "      <td>2024-11-13</td>\n",
       "    </tr>\n",
       "    <tr>\n",
       "      <th>1</th>\n",
       "      <td>CUST_0017</td>\n",
       "      <td>Friend Activities</td>\n",
       "      <td>Dinner with Friends</td>\n",
       "      <td>2</td>\n",
       "      <td>74.69</td>\n",
       "      <td>149.39</td>\n",
       "      <td>Debit Card</td>\n",
       "      <td>In-store</td>\n",
       "      <td>2023-05-04</td>\n",
       "    </tr>\n",
       "    <tr>\n",
       "      <th>2</th>\n",
       "      <td>CUST_0094</td>\n",
       "      <td>Housing and Utilities</td>\n",
       "      <td>Water Bill</td>\n",
       "      <td>1</td>\n",
       "      <td>76.06</td>\n",
       "      <td>76.06</td>\n",
       "      <td>Digital Wallet</td>\n",
       "      <td>Mobile App</td>\n",
       "      <td>2023-12-16</td>\n",
       "    </tr>\n",
       "    <tr>\n",
       "      <th>3</th>\n",
       "      <td>CUST_0162</td>\n",
       "      <td>Fitness</td>\n",
       "      <td>Yoga Class</td>\n",
       "      <td>5</td>\n",
       "      <td>11.24</td>\n",
       "      <td>56.18</td>\n",
       "      <td>Cash</td>\n",
       "      <td>In-store</td>\n",
       "      <td>2024-01-28</td>\n",
       "    </tr>\n",
       "    <tr>\n",
       "      <th>4</th>\n",
       "      <td>CUST_0129</td>\n",
       "      <td>Gifts</td>\n",
       "      <td>Flowers</td>\n",
       "      <td>3</td>\n",
       "      <td>43.71</td>\n",
       "      <td>131.12</td>\n",
       "      <td>Debit Card</td>\n",
       "      <td>In-store</td>\n",
       "      <td>2023-07-28</td>\n",
       "    </tr>\n",
       "  </tbody>\n",
       "</table>\n",
       "</div>"
      ],
      "text/plain": [
       "  Customer ID               Category                 Item  Quantity  \\\n",
       "0   CUST_0159              Groceries                 Milk         1   \n",
       "1   CUST_0017      Friend Activities  Dinner with Friends         2   \n",
       "2   CUST_0094  Housing and Utilities           Water Bill         1   \n",
       "3   CUST_0162                Fitness           Yoga Class         5   \n",
       "4   CUST_0129                  Gifts              Flowers         3   \n",
       "\n",
       "   Price Per Unit  Total Spent  Payment Method    Location Transaction Date  \n",
       "0            1.28         1.28      Debit Card  Mobile App       2024-11-13  \n",
       "1           74.69       149.39      Debit Card    In-store       2023-05-04  \n",
       "2           76.06        76.06  Digital Wallet  Mobile App       2023-12-16  \n",
       "3           11.24        56.18            Cash    In-store       2024-01-28  \n",
       "4           43.71       131.12      Debit Card    In-store       2023-07-28  "
      ]
     },
     "execution_count": 2,
     "metadata": {},
     "output_type": "execute_result"
    }
   ],
   "source": [
    "# Cell untuk membaca file data mentah dan menampilkan 5 data pertama\n",
    "\n",
    "df = pd.read_csv('spending_patterns_detailed.csv')\n",
    "df.head(5)"
   ]
  },
  {
   "cell_type": "markdown",
   "metadata": {},
   "source": [
    "## Rangkuman data"
   ]
  },
  {
   "cell_type": "code",
   "execution_count": null,
   "metadata": {},
   "outputs": [
    {
     "name": "stdout",
     "output_type": "stream",
     "text": [
      "<class 'pandas.core.frame.DataFrame'>\n",
      "RangeIndex: 10000 entries, 0 to 9999\n",
      "Data columns (total 9 columns):\n",
      " #   Column            Non-Null Count  Dtype  \n",
      "---  ------            --------------  -----  \n",
      " 0   Customer ID       10000 non-null  object \n",
      " 1   Category          10000 non-null  object \n",
      " 2   Item              10000 non-null  object \n",
      " 3   Quantity          10000 non-null  int64  \n",
      " 4   Price Per Unit    10000 non-null  float64\n",
      " 5   Total Spent       10000 non-null  float64\n",
      " 6   Payment Method    10000 non-null  object \n",
      " 7   Location          10000 non-null  object \n",
      " 8   Transaction Date  10000 non-null  object \n",
      "dtypes: float64(2), int64(1), object(6)\n",
      "memory usage: 703.3+ KB\n"
     ]
    }
   ],
   "source": [
    "# Cell untuk memberikan gambaran ringkas isi dari tabel\n",
    "\n",
    "df.info()"
   ]
  },
  {
   "cell_type": "markdown",
   "metadata": {},
   "source": [
    "# IV. Data Cleaning"
   ]
  },
  {
   "cell_type": "markdown",
   "metadata": {},
   "source": [
    "## Cek missing value"
   ]
  },
  {
   "cell_type": "code",
   "execution_count": null,
   "metadata": {},
   "outputs": [
    {
     "data": {
      "text/plain": [
       "Customer ID         0\n",
       "Category            0\n",
       "Item                0\n",
       "Quantity            0\n",
       "Price Per Unit      0\n",
       "Total Spent         0\n",
       "Payment Method      0\n",
       "Location            0\n",
       "Transaction Date    0\n",
       "dtype: int64"
      ]
     },
     "execution_count": 4,
     "metadata": {},
     "output_type": "execute_result"
    }
   ],
   "source": [
    "# Pengecekan missing value standard menggunakan .isnull()\n",
    "\n",
    "df.isnull().sum()"
   ]
  },
  {
   "cell_type": "markdown",
   "metadata": {},
   "source": [
    "<p>Tidak terdapat normal missing value</p>"
   ]
  },
  {
   "cell_type": "code",
   "execution_count": null,
   "metadata": {},
   "outputs": [
    {
     "name": "stdout",
     "output_type": "stream",
     "text": [
      "\n",
      "Unique Category: ['Groceries' 'Friend Activities' 'Housing and Utilities' 'Fitness' 'Gifts'\n",
      " 'Transportation' 'Travel' 'Personal Hygiene' 'Hobbies' 'Shopping'\n",
      " 'Medical/Dental' 'Food' 'Subscriptions']\n",
      "Unique Category: ['CUST_0159' 'CUST_0017' 'CUST_0094' 'CUST_0162' 'CUST_0129' 'CUST_0071'\n",
      " 'CUST_0165' 'CUST_0147' 'CUST_0116' 'CUST_0150' 'CUST_0048' 'CUST_0110'\n",
      " 'CUST_0072' 'CUST_0100' 'CUST_0199' 'CUST_0008' 'CUST_0065' 'CUST_0136'\n",
      " 'CUST_0023' 'CUST_0193' 'CUST_0041' 'CUST_0190' 'CUST_0163' 'CUST_0155'\n",
      " 'CUST_0064' 'CUST_0021' 'CUST_0050' 'CUST_0109' 'CUST_0156' 'CUST_0083'\n",
      " 'CUST_0180' 'CUST_0028' 'CUST_0140' 'CUST_0038' 'CUST_0191' 'CUST_0001'\n",
      " 'CUST_0073' 'CUST_0107' 'CUST_0058' 'CUST_0043' 'CUST_0145' 'CUST_0042'\n",
      " 'CUST_0046' 'CUST_0011' 'CUST_0024' 'CUST_0130' 'CUST_0057' 'CUST_0091'\n",
      " 'CUST_0030' 'CUST_0053' 'CUST_0027' 'CUST_0063' 'CUST_0132' 'CUST_0022'\n",
      " 'CUST_0182' 'CUST_0188' 'CUST_0154' 'CUST_0122' 'CUST_0096' 'CUST_0104'\n",
      " 'CUST_0076' 'CUST_0126' 'CUST_0194' 'CUST_0035' 'CUST_0033' 'CUST_0195'\n",
      " 'CUST_0115' 'CUST_0002' 'CUST_0112' 'CUST_0066' 'CUST_0020' 'CUST_0077'\n",
      " 'CUST_0146' 'CUST_0197' 'CUST_0198' 'CUST_0164' 'CUST_0121' 'CUST_0070'\n",
      " 'CUST_0052' 'CUST_0185' 'CUST_0047' 'CUST_0189' 'CUST_0176' 'CUST_0004'\n",
      " 'CUST_0103' 'CUST_0005' 'CUST_0007' 'CUST_0135' 'CUST_0010' 'CUST_0143'\n",
      " 'CUST_0036' 'CUST_0160' 'CUST_0018' 'CUST_0184' 'CUST_0120' 'CUST_0178'\n",
      " 'CUST_0045' 'CUST_0026' 'CUST_0074' 'CUST_0102' 'CUST_0039' 'CUST_0014'\n",
      " 'CUST_0142' 'CUST_0123' 'CUST_0114' 'CUST_0034' 'CUST_0111' 'CUST_0092'\n",
      " 'CUST_0093' 'CUST_0183' 'CUST_0090' 'CUST_0108' 'CUST_0075' 'CUST_0187'\n",
      " 'CUST_0113' 'CUST_0196' 'CUST_0105' 'CUST_0106' 'CUST_0086' 'CUST_0127'\n",
      " 'CUST_0161' 'CUST_0170' 'CUST_0167' 'CUST_0172' 'CUST_0168' 'CUST_0128'\n",
      " 'CUST_0068' 'CUST_0012' 'CUST_0056' 'CUST_0186' 'CUST_0087' 'CUST_0025'\n",
      " 'CUST_0016' 'CUST_0037' 'CUST_0125' 'CUST_0099' 'CUST_0013' 'CUST_0060'\n",
      " 'CUST_0173' 'CUST_0081' 'CUST_0069' 'CUST_0158' 'CUST_0009' 'CUST_0078'\n",
      " 'CUST_0055' 'CUST_0152' 'CUST_0169' 'CUST_0133' 'CUST_0138' 'CUST_0144'\n",
      " 'CUST_0049' 'CUST_0098' 'CUST_0054' 'CUST_0062' 'CUST_0003' 'CUST_0019'\n",
      " 'CUST_0051' 'CUST_0151' 'CUST_0131' 'CUST_0095' 'CUST_0082' 'CUST_0179'\n",
      " 'CUST_0040' 'CUST_0177' 'CUST_0085' 'CUST_0171' 'CUST_0137' 'CUST_0032'\n",
      " 'CUST_0089' 'CUST_0015' 'CUST_0141' 'CUST_0029' 'CUST_0080' 'CUST_0174'\n",
      " 'CUST_0044' 'CUST_0088' 'CUST_0175' 'CUST_0124' 'CUST_0061' 'CUST_0200'\n",
      " 'CUST_0067' 'CUST_0149' 'CUST_0006' 'CUST_0059' 'CUST_0181' 'CUST_0118'\n",
      " 'CUST_0101' 'CUST_0097' 'CUST_0157' 'CUST_0079' 'CUST_0139' 'CUST_0166'\n",
      " 'CUST_0148' 'CUST_0192' 'CUST_0084' 'CUST_0031' 'CUST_0134' 'CUST_0117'\n",
      " 'CUST_0153' 'CUST_0119']\n",
      "Unique Category: ['Milk' 'Dinner with Friends' 'Water Bill' 'Yoga Class' 'Flowers'\n",
      " 'Car Repair' 'Personal Trainer' 'Plane Ticket' 'Kids Games' 'Bread'\n",
      " 'Toothpaste' 'Crochet Supplies' 'Gas Bill' 'Jewelry' 'Car' 'Shoes'\n",
      " 'Dentist Visit' 'Chicken' 'Clothes' 'Snacks' 'Fast Food'\n",
      " 'Restaurant Meal' 'Taxi/Uber' 'Doctor Visit' 'Public Transit' 'Medicine'\n",
      " 'Vegetables' 'Gas' 'Streaming Service' 'Shampoo' 'Electricity Bill'\n",
      " 'Skin Care Products' 'Coffee' 'Art Supplies' 'Magazine' 'Movie Tickets'\n",
      " 'Workout Equipment' 'Meat' 'Rent' 'Concert Tickets' 'Gift Cards'\n",
      " 'Hotel Stay' 'Soap' 'Books' 'Electronics' 'Fruits' 'Gym Membership'\n",
      " 'Video Games']\n",
      "Unique Category: ['Mobile App' 'In-store' 'Online']\n",
      "Unique Category: ['Debit Card' 'Digital Wallet' 'Cash' 'Credit Card']\n",
      "\n"
     ]
    }
   ],
   "source": [
    "# Cell mengecek untuk non-standard missing value\n",
    "\n",
    "cek_category = df['Category'].unique()\n",
    "cek_custID = df['Customer ID'].unique()\n",
    "cek_item = df['Item'].unique()\n",
    "cek_loc = df['Location'].unique()\n",
    "cek_payment = df['Payment Method'].unique()\n",
    "\n",
    "print(f'''\n",
    "Unique Category: {cek_category}\n",
    "Unique Category: {cek_custID}\n",
    "Unique Category: {cek_item}\n",
    "Unique Category: {cek_loc}\n",
    "Unique Category: {cek_payment}\n",
    "''')"
   ]
  },
  {
   "cell_type": "markdown",
   "metadata": {},
   "source": [
    "<p>Pada kolom yang menyimpan data String, tidak terdapat missing value non-standard</p>"
   ]
  },
  {
   "cell_type": "markdown",
   "metadata": {},
   "source": [
    "## Cek Duplikat"
   ]
  },
  {
   "cell_type": "code",
   "execution_count": null,
   "metadata": {},
   "outputs": [
    {
     "name": "stdout",
     "output_type": "stream",
     "text": [
      "Jumlah duplikat: 0\n"
     ]
    }
   ],
   "source": [
    "# Cell yang mencari nilai duplikat\n",
    "\n",
    "num_of_duplicate=df.duplicated().sum()\n",
    "print(f'Jumlah duplikat: {num_of_duplicate}')"
   ]
  },
  {
   "cell_type": "markdown",
   "metadata": {},
   "source": [
    "## Penggantian Tipe Data Kolom"
   ]
  },
  {
   "cell_type": "code",
   "execution_count": null,
   "metadata": {},
   "outputs": [],
   "source": [
    "# Cell ini mengubah tipe data kolom Transaction Date dari string menjadi Date Time\n",
    "\n",
    "df['Transaction Date'] = pd.to_datetime(df['Transaction Date'])"
   ]
  },
  {
   "cell_type": "markdown",
   "metadata": {},
   "source": [
    "<p>Hasil pengecekan data yang dihasilkan adalah data pada tabel sudah bersih. Tidak terdapat missing value yang standard maupun yang tidak standard sehingga tidak ada yang perlu diubah atau dihapus kolom atau rownya.</p>"
   ]
  },
  {
   "cell_type": "markdown",
   "metadata": {},
   "source": [
    "# V. Analisis"
   ]
  },
  {
   "cell_type": "markdown",
   "metadata": {},
   "source": [
    "## i. Distribusi Metode Pembayaran Dari Semua Transaksi"
   ]
  },
  {
   "cell_type": "code",
   "execution_count": null,
   "metadata": {},
   "outputs": [
    {
     "data": {
      "image/png": "[encoded data removed]",
      "text/plain": [
       "<Figure size 500x500 with 1 Axes>"
      ]
     },
     "metadata": {},
     "output_type": "display_data"
    }
   ],
   "source": [
    "# Cell ini membuat visualisasi pie chart berdasarkan Payment Method \n",
    "\n",
    "payment_distribution = df['Payment Method'].value_counts(normalize=True) * 100\n",
    "\n",
    "plt.figure(figsize=(5,5))\n",
    "payment_distribution.plot(kind='pie', autopct='%.2f')\n",
    "plt.title('Distribusi Metode Pembayaran Semua Transaksi')\n",
    "plt.ylabel('')\n",
    "plt.show()"
   ]
  },
  {
   "cell_type": "markdown",
   "metadata": {},
   "source": [
    "<p>Antara semua tipe pembayaran, pelanggan cenderung melakukan transaksi menggunakan Digital Wallet walaupun perbedaan tidak terdapat banyak. Persaingan pembayaran produk tidak memiliki cara membayar yang dominan secara signifikan. Digital Wallet merupakan metode yang mendominasi denan margin yang sedikit. Tren transaksi Digital Wallet bisa digunakan sebagai patokan untuk membantu pembuatan promo kartu kredit agar dapat menghasilkan sebuah promo yang dapat menarik nasabah baru.</p>"
   ]
  },
  {
   "cell_type": "markdown",
   "metadata": {},
   "source": [
    "## ii. Kategori apa yang Manghasilkan Total Spent Terbanyak dari Seluruh Metode Pembayaran?"
   ]
  },
  {
   "cell_type": "code",
   "execution_count": null,
   "metadata": {},
   "outputs": [
    {
     "data": {
      "application/vnd.plotly.v1+json": {
       "config": {
        "plotlyServerURL": "https://plot.ly"
       },
       "data": [
        {
         "hovertemplate": "Payment Method=Digital Wallet<br>Category=%{x}<br>Total Spent=%{y}<extra></extra>",
         "legendgroup": "Digital Wallet",
         "marker": {
          "color": "#636efa",
          "pattern": {
           "shape": ""
          }
         },
         "name": "Digital Wallet",
         "orientation": "v",
         "showlegend": true,
         "textposition": "auto",
         "type": "bar",
         "x": [
          "Shopping",
          "Housing and Utilities",
          "Fitness",
          "Gifts",
          "Medical/Dental",
          "Travel",
          "Personal Hygiene",
          "Friend Activities",
          "Transportation",
          "Hobbies",
          "Food",
          "Subscriptions",
          "Groceries"
         ],
         "xaxis": "x",
         "y": {
          "bdata": "j8L1mPO+WkEfhetRY6MQQR+F61GwEvRAj8L1KMAk80BmZmZmIm3yQM3MzMxYzfBAhetRuNb86EDrUbge3TjiQI/C9SjUieBAPQrXozAl00DXo3A9anPMQClcj8K1srJAw/UoXE86sUA=",
          "dtype": "f8"
         },
         "yaxis": "y"
        },
        {
         "hovertemplate": "Payment Method=Cash<br>Category=%{x}<br>Total Spent=%{y}<extra></extra>",
         "legendgroup": "Cash",
         "marker": {
          "color": "#EF553B",
          "pattern": {
           "shape": ""
          }
         },
         "name": "Cash",
         "orientation": "v",
         "showlegend": true,
         "textposition": "auto",
         "type": "bar",
         "x": [
          "Shopping",
          "Housing and Utilities",
          "Fitness",
          "Travel",
          "Medical/Dental",
          "Gifts",
          "Personal Hygiene",
          "Transportation",
          "Friend Activities",
          "Hobbies",
          "Food",
          "Groceries",
          "Subscriptions"
         ],
         "xaxis": "x",
         "y": {
          "bdata": "4XoUPiR7WUE9CtejPBcEQT0K16N09vJAKVyPwtUC8UAK16Nw3VfwQKRwPQqP5+xAPgrXozDe7EDD9ShcJzPiQJqZmZnxI+FAw/UoXM8f1UD2KFyPAj/LQI/C9SicdLFAFK5H4fogsUA=",
          "dtype": "f8"
         },
         "yaxis": "y"
        },
        {
         "hovertemplate": "Payment Method=Credit Card<br>Category=%{x}<br>Total Spent=%{y}<extra></extra>",
         "legendgroup": "Credit Card",
         "marker": {
          "color": "#00cc96",
          "pattern": {
           "shape": ""
          }
         },
         "name": "Credit Card",
         "orientation": "v",
         "showlegend": true,
         "textposition": "auto",
         "type": "bar",
         "x": [
          "Shopping",
          "Housing and Utilities",
          "Fitness",
          "Travel",
          "Medical/Dental",
          "Personal Hygiene",
          "Gifts",
          "Friend Activities",
          "Transportation",
          "Hobbies",
          "Food",
          "Subscriptions",
          "Groceries"
         ],
         "xaxis": "x",
         "y": {
          "bdata": "cT0Kd/90VkEK16NwXwQGQQrXo3DRP/ZAw/UoXP/G8UBI4XoUxoLxQK5H4Xo4BPFArkfhepx66EDhehSux8TjQDMzMzPzxtpAXI/C9Xih00CkcD0K93DHQK5H4XpU5bBA4XoUrofWsEA=",
          "dtype": "f8"
         },
         "yaxis": "y"
        },
        {
         "hovertemplate": "Payment Method=Debit Card<br>Category=%{x}<br>Total Spent=%{y}<extra></extra>",
         "legendgroup": "Debit Card",
         "marker": {
          "color": "#ab63fa",
          "pattern": {
           "shape": ""
          }
         },
         "name": "Debit Card",
         "orientation": "v",
         "showlegend": true,
         "textposition": "auto",
         "type": "bar",
         "x": [
          "Shopping",
          "Housing and Utilities",
          "Fitness",
          "Medical/Dental",
          "Travel",
          "Gifts",
          "Personal Hygiene",
          "Friend Activities",
          "Transportation",
          "Hobbies",
          "Food",
          "Subscriptions",
          "Groceries"
         ],
         "xaxis": "x",
         "y": {
          "bdata": "w/UonO94R0EfhetRmpcKQSlcj8JhxfRA4XoUrour80C4HoXrKW7xQIXrUbgmZ+5AXI/C9RAm7UAfhetRiDriQOF6FK63WN5AKVyPwhWY1kBxPQrXo6jLQIXrUbheSrFACtejcD2DsEA=",
          "dtype": "f8"
         },
         "yaxis": "y"
        }
       ],
       "layout": {
        "barmode": "stack",
        "legend": {
         "title": {
          "text": "Payment Method"
         },
         "tracegroupgap": 0
        },
        "template": {
         "data": {
          "bar": [
           {
            "error_x": {
             "color": "#2a3f5f"
            },
            "error_y": {
             "color": "#2a3f5f"
            },
            "marker": {
             "line": {
              "color": "#E5ECF6",
              "width": 0.5
             },
             "pattern": {
              "fillmode": "overlay",
              "size": 10,
              "solidity": 0.2
             }
            },
            "type": "bar"
           }
          ],
          "barpolar": [
           {
            "marker": {
             "line": {
              "color": "#E5ECF6",
              "width": 0.5
             },
             "pattern": {
              "fillmode": "overlay",
              "size": 10,
              "solidity": 0.2
             }
            },
            "type": "barpolar"
           }
          ],
          "carpet": [
           {
            "aaxis": {
             "endlinecolor": "#2a3f5f",
             "gridcolor": "white",
             "linecolor": "white",
             "minorgridcolor": "white",
             "startlinecolor": "#2a3f5f"
            },
            "baxis": {
             "endlinecolor": "#2a3f5f",
             "gridcolor": "white",
             "linecolor": "white",
             "minorgridcolor": "white",
             "startlinecolor": "#2a3f5f"
            },
            "type": "carpet"
           }
          ],
          "choropleth": [
           {
            "colorbar": {
             "outlinewidth": 0,
             "ticks": ""
            },
            "type": "choropleth"
           }
          ],
          "contour": [
           {
            "colorbar": {
             "outlinewidth": 0,
             "ticks": ""
            },
            "colorscale": [
             [
              0,
              "#0d0887"
             ],
             [
              0.1111111111111111,
              "#46039f"
             ],
             [
              0.2222222222222222,
              "#7201a8"
             ],
             [
              0.3333333333333333,
              "#9c179e"
             ],
             [
              0.4444444444444444,
              "#bd3786"
             ],
             [
              0.5555555555555556,
              "#d8576b"
             ],
             [
              0.6666666666666666,
              "#ed7953"
             ],
             [
              0.7777777777777778,
              "#fb9f3a"
             ],
             [
              0.8888888888888888,
              "#fdca26"
             ],
             [
              1,
              "#f0f921"
             ]
            ],
            "type": "contour"
           }
          ],
          "contourcarpet": [
           {
            "colorbar": {
             "outlinewidth": 0,
             "ticks": ""
            },
            "type": "contourcarpet"
           }
          ],
          "heatmap": [
           {
            "colorbar": {
             "outlinewidth": 0,
             "ticks": ""
            },
            "colorscale": [
             [
              0,
              "#0d0887"
             ],
             [
              0.1111111111111111,
              "#46039f"
             ],
             [
              0.2222222222222222,
              "#7201a8"
             ],
             [
              0.3333333333333333,
              "#9c179e"
             ],
             [
              0.4444444444444444,
              "#bd3786"
             ],
             [
              0.5555555555555556,
              "#d8576b"
             ],
             [
              0.6666666666666666,
              "#ed7953"
             ],
             [
              0.7777777777777778,
              "#fb9f3a"
             ],
             [
              0.8888888888888888,
              "#fdca26"
             ],
             [
              1,
              "#f0f921"
             ]
            ],
            "type": "heatmap"
           }
          ],
          "histogram": [
           {
            "marker": {
             "pattern": {
              "fillmode": "overlay",
              "size": 10,
              "solidity": 0.2
             }
            },
            "type": "histogram"
           }
          ],
          "histogram2d": [
           {
            "colorbar": {
             "outlinewidth": 0,
             "ticks": ""
            },
            "colorscale": [
             [
              0,
              "#0d0887"
             ],
             [
              0.1111111111111111,
              "#46039f"
             ],
             [
              0.2222222222222222,
              "#7201a8"
             ],
             [
              0.3333333333333333,
              "#9c179e"
             ],
             [
              0.4444444444444444,
              "#bd3786"
             ],
             [
              0.5555555555555556,
              "#d8576b"
             ],
             [
              0.6666666666666666,
              "#ed7953"
             ],
             [
              0.7777777777777778,
              "#fb9f3a"
             ],
             [
              0.8888888888888888,
              "#fdca26"
             ],
             [
              1,
              "#f0f921"
             ]
            ],
            "type": "histogram2d"
           }
          ],
          "histogram2dcontour": [
           {
            "colorbar": {
             "outlinewidth": 0,
             "ticks": ""
            },
            "colorscale": [
             [
              0,
              "#0d0887"
             ],
             [
              0.1111111111111111,
              "#46039f"
             ],
             [
              0.2222222222222222,
              "#7201a8"
             ],
             [
              0.3333333333333333,
              "#9c179e"
             ],
             [
              0.4444444444444444,
              "#bd3786"
             ],
             [
              0.5555555555555556,
              "#d8576b"
             ],
             [
              0.6666666666666666,
              "#ed7953"
             ],
             [
              0.7777777777777778,
              "#fb9f3a"
             ],
             [
              0.8888888888888888,
              "#fdca26"
             ],
             [
              1,
              "#f0f921"
             ]
            ],
            "type": "histogram2dcontour"
           }
          ],
          "mesh3d": [
           {
            "colorbar": {
             "outlinewidth": 0,
             "ticks": ""
            },
            "type": "mesh3d"
           }
          ],
          "parcoords": [
           {
            "line": {
             "colorbar": {
              "outlinewidth": 0,
              "ticks": ""
             }
            },
            "type": "parcoords"
           }
          ],
          "pie": [
           {
            "automargin": true,
            "type": "pie"
           }
          ],
          "scatter": [
           {
            "fillpattern": {
             "fillmode": "overlay",
             "size": 10,
             "solidity": 0.2
            },
            "type": "scatter"
           }
          ],
          "scatter3d": [
           {
            "line": {
             "colorbar": {
              "outlinewidth": 0,
              "ticks": ""
             }
            },
            "marker": {
             "colorbar": {
              "outlinewidth": 0,
              "ticks": ""
             }
            },
            "type": "scatter3d"
           }
          ],
          "scattercarpet": [
           {
            "marker": {
             "colorbar": {
              "outlinewidth": 0,
              "ticks": ""
             }
            },
            "type": "scattercarpet"
           }
          ],
          "scattergeo": [
           {
            "marker": {
             "colorbar": {
              "outlinewidth": 0,
              "ticks": ""
             }
            },
            "type": "scattergeo"
           }
          ],
          "scattergl": [
           {
            "marker": {
             "colorbar": {
              "outlinewidth": 0,
              "ticks": ""
             }
            },
            "type": "scattergl"
           }
          ],
          "scattermap": [
           {
            "marker": {
             "colorbar": {
              "outlinewidth": 0,
              "ticks": ""
             }
            },
            "type": "scattermap"
           }
          ],
          "scattermapbox": [
           {
            "marker": {
             "colorbar": {
              "outlinewidth": 0,
              "ticks": ""
             }
            },
            "type": "scattermapbox"
           }
          ],
          "scatterpolar": [
           {
            "marker": {
             "colorbar": {
              "outlinewidth": 0,
              "ticks": ""
             }
            },
            "type": "scatterpolar"
           }
          ],
          "scatterpolargl": [
           {
            "marker": {
             "colorbar": {
              "outlinewidth": 0,
              "ticks": ""
             }
            },
            "type": "scatterpolargl"
           }
          ],
          "scatterternary": [
           {
            "marker": {
             "colorbar": {
              "outlinewidth": 0,
              "ticks": ""
             }
            },
            "type": "scatterternary"
           }
          ],
          "surface": [
           {
            "colorbar": {
             "outlinewidth": 0,
             "ticks": ""
            },
            "colorscale": [
             [
              0,
              "#0d0887"
             ],
             [
              0.1111111111111111,
              "#46039f"
             ],
             [
              0.2222222222222222,
              "#7201a8"
             ],
             [
              0.3333333333333333,
              "#9c179e"
             ],
             [
              0.4444444444444444,
              "#bd3786"
             ],
             [
              0.5555555555555556,
              "#d8576b"
             ],
             [
              0.6666666666666666,
              "#ed7953"
             ],
             [
              0.7777777777777778,
              "#fb9f3a"
             ],
             [
              0.8888888888888888,
              "#fdca26"
             ],
             [
              1,
              "#f0f921"
             ]
            ],
            "type": "surface"
           }
          ],
          "table": [
           {
            "cells": {
             "fill": {
              "color": "#EBF0F8"
             },
             "line": {
              "color": "white"
             }
            },
            "header": {
             "fill": {
              "color": "#C8D4E3"
             },
             "line": {
              "color": "white"
             }
            },
            "type": "table"
           }
          ]
         },
         "layout": {
          "annotationdefaults": {
           "arrowcolor": "#2a3f5f",
           "arrowhead": 0,
           "arrowwidth": 1
          },
          "autotypenumbers": "strict",
          "coloraxis": {
           "colorbar": {
            "outlinewidth": 0,
            "ticks": ""
           }
          },
          "colorscale": {
           "diverging": [
            [
             0,
             "#8e0152"
            ],
            [
             0.1,
             "#c51b7d"
            ],
            [
             0.2,
             "#de77ae"
            ],
            [
             0.3,
             "#f1b6da"
            ],
            [
             0.4,
             "#fde0ef"
            ],
            [
             0.5,
             "#f7f7f7"
            ],
            [
             0.6,
             "#e6f5d0"
            ],
            [
             0.7,
             "#b8e186"
            ],
            [
             0.8,
             "#7fbc41"
            ],
            [
             0.9,
             "#4d9221"
            ],
            [
             1,
             "#276419"
            ]
           ],
           "sequential": [
            [
             0,
             "#0d0887"
            ],
            [
             0.1111111111111111,
             "#46039f"
            ],
            [
             0.2222222222222222,
             "#7201a8"
            ],
            [
             0.3333333333333333,
             "#9c179e"
            ],
            [
             0.4444444444444444,
             "#bd3786"
            ],
            [
             0.5555555555555556,
             "#d8576b"
            ],
            [
             0.6666666666666666,
             "#ed7953"
            ],
            [
             0.7777777777777778,
             "#fb9f3a"
            ],
            [
             0.8888888888888888,
             "#fdca26"
            ],
            [
             1,
             "#f0f921"
            ]
           ],
           "sequentialminus": [
            [
             0,
             "#0d0887"
            ],
            [
             0.1111111111111111,
             "#46039f"
            ],
            [
             0.2222222222222222,
             "#7201a8"
            ],
            [
             0.3333333333333333,
             "#9c179e"
            ],
            [
             0.4444444444444444,
             "#bd3786"
            ],
            [
             0.5555555555555556,
             "#d8576b"
            ],
            [
             0.6666666666666666,
             "#ed7953"
            ],
            [
             0.7777777777777778,
             "#fb9f3a"
            ],
            [
             0.8888888888888888,
             "#fdca26"
            ],
            [
             1,
             "#f0f921"
            ]
           ]
          },
          "colorway": [
           "#636efa",
           "#EF553B",
           "#00cc96",
           "#ab63fa",
           "#FFA15A",
           "#19d3f3",
           "#FF6692",
           "#B6E880",
           "#FF97FF",
           "#FECB52"
          ],
          "font": {
           "color": "#2a3f5f"
          },
          "geo": {
           "bgcolor": "white",
           "lakecolor": "white",
           "landcolor": "#E5ECF6",
           "showlakes": true,
           "showland": true,
           "subunitcolor": "white"
          },
          "hoverlabel": {
           "align": "left"
          },
          "hovermode": "closest",
          "mapbox": {
           "style": "light"
          },
          "paper_bgcolor": "white",
          "plot_bgcolor": "#E5ECF6",
          "polar": {
           "angularaxis": {
            "gridcolor": "white",
            "linecolor": "white",
            "ticks": ""
           },
           "bgcolor": "#E5ECF6",
           "radialaxis": {
            "gridcolor": "white",
            "linecolor": "white",
            "ticks": ""
           }
          },
          "scene": {
           "xaxis": {
            "backgroundcolor": "#E5ECF6",
            "gridcolor": "white",
            "gridwidth": 2,
            "linecolor": "white",
            "showbackground": true,
            "ticks": "",
            "zerolinecolor": "white"
           },
           "yaxis": {
            "backgroundcolor": "#E5ECF6",
            "gridcolor": "white",
            "gridwidth": 2,
            "linecolor": "white",
            "showbackground": true,
            "ticks": "",
            "zerolinecolor": "white"
           },
           "zaxis": {
            "backgroundcolor": "#E5ECF6",
            "gridcolor": "white",
            "gridwidth": 2,
            "linecolor": "white",
            "showbackground": true,
            "ticks": "",
            "zerolinecolor": "white"
           }
          },
          "shapedefaults": {
           "line": {
            "color": "#2a3f5f"
           }
          },
          "ternary": {
           "aaxis": {
            "gridcolor": "white",
            "linecolor": "white",
            "ticks": ""
           },
           "baxis": {
            "gridcolor": "white",
            "linecolor": "white",
            "ticks": ""
           },
           "bgcolor": "#E5ECF6",
           "caxis": {
            "gridcolor": "white",
            "linecolor": "white",
            "ticks": ""
           }
          },
          "title": {
           "x": 0.05
          },
          "xaxis": {
           "automargin": true,
           "gridcolor": "white",
           "linecolor": "white",
           "ticks": "",
           "title": {
            "standoff": 15
           },
           "zerolinecolor": "white",
           "zerolinewidth": 2
          },
          "yaxis": {
           "automargin": true,
           "gridcolor": "white",
           "linecolor": "white",
           "ticks": "",
           "title": {
            "standoff": 15
           },
           "zerolinecolor": "white",
           "zerolinewidth": 2
          }
         }
        },
        "title": {
         "text": "Total Spent per Kategori Berdasarkan Metode Pembayaran"
        },
        "xaxis": {
         "anchor": "y",
         "domain": [
          0,
          1
         ],
         "title": {
          "text": "Category"
         }
        },
        "yaxis": {
         "anchor": "x",
         "domain": [
          0,
          1
         ],
         "title": {
          "text": "Total Spent"
         },
         "type": "log"
        }
       }
      }
     },
     "metadata": {},
     "output_type": "display_data"
    }
   ],
   "source": [
    "# Cell ini membuat Stack Bar Chart interactive menggunakan plotly yang mengvisualisaskikan Total Spend untuk setiap Payment Method berdasarkan Category\n",
    "\n",
    "spending = df.groupby(['Category', 'Payment Method'])['Total Spent'].sum().sort_values(ascending=False).reset_index()\n",
    "\n",
    "fig1 = px.bar(spending, x='Category', y='Total Spent', title='Total Spent per Kategori Berdasarkan Metode Pembayaran', \n",
    "             color='Payment Method', barmode='stack', log_y=True )\n",
    "fig1.show()"
   ]
  },
  {
   "cell_type": "markdown",
   "metadata": {},
   "source": [
    "<p>Berdasarkan grafikk yang ada, pelanggan pada supermarket cenderung membeli barang yang berkategori shopping. Dari hasil data ini, tim promosi bisa membuat promosi untuk pembelian produk Shopping sebagai target utama promo yang akan dibuat. Selain itu tim promosi dapat mempertimbangkan membuat promo untuk produk pada kategori Housing and Utilities ataupun Fitness sebagai pilihan alternatif target pembuatan promosi untuk menarik nasabah baru.</p>"
   ]
  },
  {
   "cell_type": "markdown",
   "metadata": {},
   "source": [
    "## iii. Bagaimana Tren Data Pembelian Produk per Kuarter?"
   ]
  },
  {
   "cell_type": "code",
   "execution_count": null,
   "metadata": {},
   "outputs": [
    {
     "name": "stderr",
     "output_type": "stream",
     "text": [
      "C:\\Users\\Dionisius\\AppData\\Local\\Temp\\ipykernel_6044\\3177381899.py:1: FutureWarning:\n",
      "\n",
      "'Q' is deprecated and will be removed in a future version, please use 'QE' instead.\n",
      "\n"
     ]
    },
    {
     "data": {
      "application/vnd.plotly.v1+json": {
       "config": {
        "plotlyServerURL": "https://plot.ly"
       },
       "data": [
        {
         "hovertemplate": "Transaction Date=%{x}<br>Total Spent=%{y}<extra></extra>",
         "legendgroup": "",
         "line": {
          "color": "#636efa",
          "dash": "solid"
         },
         "marker": {
          "symbol": "circle"
         },
         "mode": "lines",
         "name": "",
         "orientation": "v",
         "showlegend": false,
         "type": "scatter",
         "x": [
          "2023Q1",
          "2023Q2",
          "2023Q3",
          "2023Q4",
          "2024Q1",
          "2024Q2",
          "2024Q3",
          "2024Q4",
          "2025Q1"
         ],
         "xaxis": "x",
         "y": {
          "bdata": "exSuB+VrSUEfhevR6oJIQfYoXI9IYkBBUrgeBdniTkGamZl5QYRNQbgehWtiqUNB4XoU7rE/REEzMzOzgyVKQXA9CtfvgfNA",
          "dtype": "f8"
         },
         "yaxis": "y"
        }
       ],
       "layout": {
        "legend": {
         "tracegroupgap": 0
        },
        "template": {
         "data": {
          "bar": [
           {
            "error_x": {
             "color": "#2a3f5f"
            },
            "error_y": {
             "color": "#2a3f5f"
            },
            "marker": {
             "line": {
              "color": "#E5ECF6",
              "width": 0.5
             },
             "pattern": {
              "fillmode": "overlay",
              "size": 10,
              "solidity": 0.2
             }
            },
            "type": "bar"
           }
          ],
          "barpolar": [
           {
            "marker": {
             "line": {
              "color": "#E5ECF6",
              "width": 0.5
             },
             "pattern": {
              "fillmode": "overlay",
              "size": 10,
              "solidity": 0.2
             }
            },
            "type": "barpolar"
           }
          ],
          "carpet": [
           {
            "aaxis": {
             "endlinecolor": "#2a3f5f",
             "gridcolor": "white",
             "linecolor": "white",
             "minorgridcolor": "white",
             "startlinecolor": "#2a3f5f"
            },
            "baxis": {
             "endlinecolor": "#2a3f5f",
             "gridcolor": "white",
             "linecolor": "white",
             "minorgridcolor": "white",
             "startlinecolor": "#2a3f5f"
            },
            "type": "carpet"
           }
          ],
          "choropleth": [
           {
            "colorbar": {
             "outlinewidth": 0,
             "ticks": ""
            },
            "type": "choropleth"
           }
          ],
          "contour": [
           {
            "colorbar": {
             "outlinewidth": 0,
             "ticks": ""
            },
            "colorscale": [
             [
              0,
              "#0d0887"
             ],
             [
              0.1111111111111111,
              "#46039f"
             ],
             [
              0.2222222222222222,
              "#7201a8"
             ],
             [
              0.3333333333333333,
              "#9c179e"
             ],
             [
              0.4444444444444444,
              "#bd3786"
             ],
             [
              0.5555555555555556,
              "#d8576b"
             ],
             [
              0.6666666666666666,
              "#ed7953"
             ],
             [
              0.7777777777777778,
              "#fb9f3a"
             ],
             [
              0.8888888888888888,
              "#fdca26"
             ],
             [
              1,
              "#f0f921"
             ]
            ],
            "type": "contour"
           }
          ],
          "contourcarpet": [
           {
            "colorbar": {
             "outlinewidth": 0,
             "ticks": ""
            },
            "type": "contourcarpet"
           }
          ],
          "heatmap": [
           {
            "colorbar": {
             "outlinewidth": 0,
             "ticks": ""
            },
            "colorscale": [
             [
              0,
              "#0d0887"
             ],
             [
              0.1111111111111111,
              "#46039f"
             ],
             [
              0.2222222222222222,
              "#7201a8"
             ],
             [
              0.3333333333333333,
              "#9c179e"
             ],
             [
              0.4444444444444444,
              "#bd3786"
             ],
             [
              0.5555555555555556,
              "#d8576b"
             ],
             [
              0.6666666666666666,
              "#ed7953"
             ],
             [
              0.7777777777777778,
              "#fb9f3a"
             ],
             [
              0.8888888888888888,
              "#fdca26"
             ],
             [
              1,
              "#f0f921"
             ]
            ],
            "type": "heatmap"
           }
          ],
          "histogram": [
           {
            "marker": {
             "pattern": {
              "fillmode": "overlay",
              "size": 10,
              "solidity": 0.2
             }
            },
            "type": "histogram"
           }
          ],
          "histogram2d": [
           {
            "colorbar": {
             "outlinewidth": 0,
             "ticks": ""
            },
            "colorscale": [
             [
              0,
              "#0d0887"
             ],
             [
              0.1111111111111111,
              "#46039f"
             ],
             [
              0.2222222222222222,
              "#7201a8"
             ],
             [
              0.3333333333333333,
              "#9c179e"
             ],
             [
              0.4444444444444444,
              "#bd3786"
             ],
             [
              0.5555555555555556,
              "#d8576b"
             ],
             [
              0.6666666666666666,
              "#ed7953"
             ],
             [
              0.7777777777777778,
              "#fb9f3a"
             ],
             [
              0.8888888888888888,
              "#fdca26"
             ],
             [
              1,
              "#f0f921"
             ]
            ],
            "type": "histogram2d"
           }
          ],
          "histogram2dcontour": [
           {
            "colorbar": {
             "outlinewidth": 0,
             "ticks": ""
            },
            "colorscale": [
             [
              0,
              "#0d0887"
             ],
             [
              0.1111111111111111,
              "#46039f"
             ],
             [
              0.2222222222222222,
              "#7201a8"
             ],
             [
              0.3333333333333333,
              "#9c179e"
             ],
             [
              0.4444444444444444,
              "#bd3786"
             ],
             [
              0.5555555555555556,
              "#d8576b"
             ],
             [
              0.6666666666666666,
              "#ed7953"
             ],
             [
              0.7777777777777778,
              "#fb9f3a"
             ],
             [
              0.8888888888888888,
              "#fdca26"
             ],
             [
              1,
              "#f0f921"
             ]
            ],
            "type": "histogram2dcontour"
           }
          ],
          "mesh3d": [
           {
            "colorbar": {
             "outlinewidth": 0,
             "ticks": ""
            },
            "type": "mesh3d"
           }
          ],
          "parcoords": [
           {
            "line": {
             "colorbar": {
              "outlinewidth": 0,
              "ticks": ""
             }
            },
            "type": "parcoords"
           }
          ],
          "pie": [
           {
            "automargin": true,
            "type": "pie"
           }
          ],
          "scatter": [
           {
            "fillpattern": {
             "fillmode": "overlay",
             "size": 10,
             "solidity": 0.2
            },
            "type": "scatter"
           }
          ],
          "scatter3d": [
           {
            "line": {
             "colorbar": {
              "outlinewidth": 0,
              "ticks": ""
             }
            },
            "marker": {
             "colorbar": {
              "outlinewidth": 0,
              "ticks": ""
             }
            },
            "type": "scatter3d"
           }
          ],
          "scattercarpet": [
           {
            "marker": {
             "colorbar": {
              "outlinewidth": 0,
              "ticks": ""
             }
            },
            "type": "scattercarpet"
           }
          ],
          "scattergeo": [
           {
            "marker": {
             "colorbar": {
              "outlinewidth": 0,
              "ticks": ""
             }
            },
            "type": "scattergeo"
           }
          ],
          "scattergl": [
           {
            "marker": {
             "colorbar": {
              "outlinewidth": 0,
              "ticks": ""
             }
            },
            "type": "scattergl"
           }
          ],
          "scattermap": [
           {
            "marker": {
             "colorbar": {
              "outlinewidth": 0,
              "ticks": ""
             }
            },
            "type": "scattermap"
           }
          ],
          "scattermapbox": [
           {
            "marker": {
             "colorbar": {
              "outlinewidth": 0,
              "ticks": ""
             }
            },
            "type": "scattermapbox"
           }
          ],
          "scatterpolar": [
           {
            "marker": {
             "colorbar": {
              "outlinewidth": 0,
              "ticks": ""
             }
            },
            "type": "scatterpolar"
           }
          ],
          "scatterpolargl": [
           {
            "marker": {
             "colorbar": {
              "outlinewidth": 0,
              "ticks": ""
             }
            },
            "type": "scatterpolargl"
           }
          ],
          "scatterternary": [
           {
            "marker": {
             "colorbar": {
              "outlinewidth": 0,
              "ticks": ""
             }
            },
            "type": "scatterternary"
           }
          ],
          "surface": [
           {
            "colorbar": {
             "outlinewidth": 0,
             "ticks": ""
            },
            "colorscale": [
             [
              0,
              "#0d0887"
             ],
             [
              0.1111111111111111,
              "#46039f"
             ],
             [
              0.2222222222222222,
              "#7201a8"
             ],
             [
              0.3333333333333333,
              "#9c179e"
             ],
             [
              0.4444444444444444,
              "#bd3786"
             ],
             [
              0.5555555555555556,
              "#d8576b"
             ],
             [
              0.6666666666666666,
              "#ed7953"
             ],
             [
              0.7777777777777778,
              "#fb9f3a"
             ],
             [
              0.8888888888888888,
              "#fdca26"
             ],
             [
              1,
              "#f0f921"
             ]
            ],
            "type": "surface"
           }
          ],
          "table": [
           {
            "cells": {
             "fill": {
              "color": "#EBF0F8"
             },
             "line": {
              "color": "white"
             }
            },
            "header": {
             "fill": {
              "color": "#C8D4E3"
             },
             "line": {
              "color": "white"
             }
            },
            "type": "table"
           }
          ]
         },
         "layout": {
          "annotationdefaults": {
           "arrowcolor": "#2a3f5f",
           "arrowhead": 0,
           "arrowwidth": 1
          },
          "autotypenumbers": "strict",
          "coloraxis": {
           "colorbar": {
            "outlinewidth": 0,
            "ticks": ""
           }
          },
          "colorscale": {
           "diverging": [
            [
             0,
             "#8e0152"
            ],
            [
             0.1,
             "#c51b7d"
            ],
            [
             0.2,
             "#de77ae"
            ],
            [
             0.3,
             "#f1b6da"
            ],
            [
             0.4,
             "#fde0ef"
            ],
            [
             0.5,
             "#f7f7f7"
            ],
            [
             0.6,
             "#e6f5d0"
            ],
            [
             0.7,
             "#b8e186"
            ],
            [
             0.8,
             "#7fbc41"
            ],
            [
             0.9,
             "#4d9221"
            ],
            [
             1,
             "#276419"
            ]
           ],
           "sequential": [
            [
             0,
             "#0d0887"
            ],
            [
             0.1111111111111111,
             "#46039f"
            ],
            [
             0.2222222222222222,
             "#7201a8"
            ],
            [
             0.3333333333333333,
             "#9c179e"
            ],
            [
             0.4444444444444444,
             "#bd3786"
            ],
            [
             0.5555555555555556,
             "#d8576b"
            ],
            [
             0.6666666666666666,
             "#ed7953"
            ],
            [
             0.7777777777777778,
             "#fb9f3a"
            ],
            [
             0.8888888888888888,
             "#fdca26"
            ],
            [
             1,
             "#f0f921"
            ]
           ],
           "sequentialminus": [
            [
             0,
             "#0d0887"
            ],
            [
             0.1111111111111111,
             "#46039f"
            ],
            [
             0.2222222222222222,
             "#7201a8"
            ],
            [
             0.3333333333333333,
             "#9c179e"
            ],
            [
             0.4444444444444444,
             "#bd3786"
            ],
            [
             0.5555555555555556,
             "#d8576b"
            ],
            [
             0.6666666666666666,
             "#ed7953"
            ],
            [
             0.7777777777777778,
             "#fb9f3a"
            ],
            [
             0.8888888888888888,
             "#fdca26"
            ],
            [
             1,
             "#f0f921"
            ]
           ]
          },
          "colorway": [
           "#636efa",
           "#EF553B",
           "#00cc96",
           "#ab63fa",
           "#FFA15A",
           "#19d3f3",
           "#FF6692",
           "#B6E880",
           "#FF97FF",
           "#FECB52"
          ],
          "font": {
           "color": "#2a3f5f"
          },
          "geo": {
           "bgcolor": "white",
           "lakecolor": "white",
           "landcolor": "#E5ECF6",
           "showlakes": true,
           "showland": true,
           "subunitcolor": "white"
          },
          "hoverlabel": {
           "align": "left"
          },
          "hovermode": "closest",
          "mapbox": {
           "style": "light"
          },
          "paper_bgcolor": "white",
          "plot_bgcolor": "#E5ECF6",
          "polar": {
           "angularaxis": {
            "gridcolor": "white",
            "linecolor": "white",
            "ticks": ""
           },
           "bgcolor": "#E5ECF6",
           "radialaxis": {
            "gridcolor": "white",
            "linecolor": "white",
            "ticks": ""
           }
          },
          "scene": {
           "xaxis": {
            "backgroundcolor": "#E5ECF6",
            "gridcolor": "white",
            "gridwidth": 2,
            "linecolor": "white",
            "showbackground": true,
            "ticks": "",
            "zerolinecolor": "white"
           },
           "yaxis": {
            "backgroundcolor": "#E5ECF6",
            "gridcolor": "white",
            "gridwidth": 2,
            "linecolor": "white",
            "showbackground": true,
            "ticks": "",
            "zerolinecolor": "white"
           },
           "zaxis": {
            "backgroundcolor": "#E5ECF6",
            "gridcolor": "white",
            "gridwidth": 2,
            "linecolor": "white",
            "showbackground": true,
            "ticks": "",
            "zerolinecolor": "white"
           }
          },
          "shapedefaults": {
           "line": {
            "color": "#2a3f5f"
           }
          },
          "ternary": {
           "aaxis": {
            "gridcolor": "white",
            "linecolor": "white",
            "ticks": ""
           },
           "baxis": {
            "gridcolor": "white",
            "linecolor": "white",
            "ticks": ""
           },
           "bgcolor": "#E5ECF6",
           "caxis": {
            "gridcolor": "white",
            "linecolor": "white",
            "ticks": ""
           }
          },
          "title": {
           "x": 0.05
          },
          "xaxis": {
           "automargin": true,
           "gridcolor": "white",
           "linecolor": "white",
           "ticks": "",
           "title": {
            "standoff": 15
           },
           "zerolinecolor": "white",
           "zerolinewidth": 2
          },
          "yaxis": {
           "automargin": true,
           "gridcolor": "white",
           "linecolor": "white",
           "ticks": "",
           "title": {
            "standoff": 15
           },
           "zerolinecolor": "white",
           "zerolinewidth": 2
          }
         }
        },
        "title": {
         "text": "Trend Data Pembelian Produk dari Waktu ke Waktu"
        },
        "xaxis": {
         "anchor": "y",
         "domain": [
          0,
          1
         ],
         "title": {
          "text": "Transaction Date"
         }
        },
        "yaxis": {
         "anchor": "x",
         "domain": [
          0,
          1
         ],
         "title": {
          "text": "Total Spent"
         }
        }
       }
      }
     },
     "metadata": {},
     "output_type": "display_data"
    }
   ],
   "source": [
    "# Cell untuk membuat line chart trend data pembelian per kuarter\n",
    "\n",
    "spending_trend = df.groupby(pd.Grouper(key='Transaction Date', freq='Q'))['Total Spent'].sum().reset_index()\n",
    "spending_trend = spending_trend.sort_values('Transaction Date').reset_index(drop=True)\n",
    "\n",
    "spending_trend['Transaction Date'] = spending_trend['Transaction Date'].dt.to_period('Q').astype(str)\n",
    "\n",
    "fig2 = px.line(spending_trend, x='Transaction Date', y='Total Spent', title='Trend Data Pembelian Produk dari Waktu ke Waktu')\n",
    "fig2.show()"
   ]
  },
  {
   "cell_type": "markdown",
   "metadata": {},
   "source": [
    "<p>Dari hasil visualisasi, pelanggan lebih cenderung membeli produk di bulan Oktober, November, dan Desember. Tim promosi bisa menargetkan bulan ini untuk pembuatan promo seasonal seperti Halloween ataupun Christmas.</p>"
   ]
  },
  {
   "cell_type": "markdown",
   "metadata": {},
   "source": [
    "## iv. Bagaimana Distribusi Transaksi yang Terjadi di Setiap Tipe Lokasi?"
   ]
  },
  {
   "cell_type": "code",
   "execution_count": null,
   "metadata": {},
   "outputs": [
    {
     "data": {
      "image/png": "[encoded data removed]",
      "text/plain": [
       "<Figure size 500x500 with 1 Axes>"
      ]
     },
     "metadata": {},
     "output_type": "display_data"
    }
   ],
   "source": [
    "# Cell ini membuat pie chart yang menggambarkan distribusi transaksi yang terjadi di setiap lokasi\n",
    "\n",
    "payment_distribution = df['Location'].value_counts(normalize=True) * 100\n",
    "\n",
    "plt.figure(figsize=(5,5))\n",
    "payment_distribution.plot(kind='pie', autopct='%.2f')\n",
    "plt.title('Distribusi Semua Transaksi per Lokasi')\n",
    "plt.ylabel('')\n",
    "plt.show()"
   ]
  },
  {
   "cell_type": "markdown",
   "metadata": {},
   "source": [
    "<p>Distribusi pelanggan melakukan aktifitas belanja di lokasi mana terlihat rata. Melihat dari chart yang ada, Pelanggan memiliki sedikit preferensi terhadap langsung datang ke toko langsung. Target pembuatan promo bisa dibuat khusus untuk yang langsung datang ke toko. Tetapi karena perbedaan tidak terlalu berbeda, tim promosi bisa saja membuat promo yang lebih universal.</p>"
   ]
  },
  {
   "cell_type": "markdown",
   "metadata": {},
   "source": [
    "## v. Bagaimana Distribusi Transaksi yang Terjadi Berdasarkan Setiap Metode Pembayaran"
   ]
  },
  {
   "cell_type": "code",
   "execution_count": null,
   "metadata": {},
   "outputs": [
    {
     "data": {
      "application/vnd.plotly.v1+json": {
       "config": {
        "plotlyServerURL": "https://plot.ly"
       },
       "data": [
        {
         "alignmentgroup": "True",
         "hovertemplate": "Payment Method=Digital Wallet<br>Location=%{x}<br>Percent=%{y}<br>text=%{text}<extra></extra>",
         "legendgroup": "Digital Wallet",
         "marker": {
          "color": "#636efa",
          "pattern": {
           "shape": ""
          }
         },
         "name": "Digital Wallet",
         "offsetgroup": "Digital Wallet",
         "orientation": "v",
         "showlegend": true,
         "text": [
          "26.72",
          "25.17",
          "24.89"
         ],
         "textposition": "outside",
         "texttemplate": "%{text}%",
         "type": "bar",
         "x": [
          "In-store",
          "Mobile App",
          "Online"
         ],
         "xaxis": "x",
         "y": {
          "bdata": "u6JViUW4OkACgePXlio5QFFjt3344jhA",
          "dtype": "f8"
         },
         "yaxis": "y"
        },
        {
         "alignmentgroup": "True",
         "hovertemplate": "Payment Method=Credit Card<br>Location=%{x}<br>Percent=%{y}<br>text=%{text}<extra></extra>",
         "legendgroup": "Credit Card",
         "marker": {
          "color": "#EF553B",
          "pattern": {
           "shape": ""
          }
         },
         "name": "Credit Card",
         "offsetgroup": "Credit Card",
         "orientation": "v",
         "showlegend": true,
         "text": [
          "25.78",
          "25.65",
          "23.53"
         ],
         "textposition": "outside",
         "texttemplate": "%{text}%",
         "type": "bar",
         "x": [
          "In-store",
          "Mobile App",
          "Online"
         ],
         "xaxis": "x",
         "y": {
          "bdata": "7vbn2WfGOUAG4ac0fKY5QCULUGKehjdA",
          "dtype": "f8"
         },
         "yaxis": "y"
        },
        {
         "alignmentgroup": "True",
         "hovertemplate": "Payment Method=Cash<br>Location=%{x}<br>Percent=%{y}<br>text=%{text}<extra></extra>",
         "legendgroup": "Cash",
         "marker": {
          "color": "#00cc96",
          "pattern": {
           "shape": ""
          }
         },
         "name": "Cash",
         "offsetgroup": "Cash",
         "orientation": "v",
         "showlegend": true,
         "text": [
          "23.86",
          "24.23",
          "26.28"
         ],
         "textposition": "outside",
         "texttemplate": "%{text}%",
         "type": "bar",
         "x": [
          "In-store",
          "Mobile App",
          "Online"
         ],
         "xaxis": "x",
         "y": {
          "bdata": "9jGRjR3bN0D4Bid0ijo4QL5cdlUQRzpA",
          "dtype": "f8"
         },
         "yaxis": "y"
        },
        {
         "alignmentgroup": "True",
         "hovertemplate": "Payment Method=Debit Card<br>Location=%{x}<br>Percent=%{y}<br>text=%{text}<extra></extra>",
         "legendgroup": "Debit Card",
         "marker": {
          "color": "#ab63fa",
          "pattern": {
           "shape": ""
          }
         },
         "name": "Debit Card",
         "offsetgroup": "Debit Card",
         "orientation": "v",
         "showlegend": true,
         "text": [
          "23.65",
          "24.95",
          "25.31"
         ],
         "textposition": "outside",
         "texttemplate": "%{text}%",
         "type": "bar",
         "x": [
          "In-store",
          "Mobile App",
          "Online"
         ],
         "xaxis": "x",
         "y": {
          "bdata": "YTQxDzWmN0D/lk1/YvQ4QMw0gspYTzlA",
          "dtype": "f8"
         },
         "yaxis": "y"
        }
       ],
       "layout": {
        "barmode": "group",
        "legend": {
         "title": {
          "text": "Payment Method"
         },
         "tracegroupgap": 0
        },
        "template": {
         "data": {
          "bar": [
           {
            "error_x": {
             "color": "#2a3f5f"
            },
            "error_y": {
             "color": "#2a3f5f"
            },
            "marker": {
             "line": {
              "color": "#E5ECF6",
              "width": 0.5
             },
             "pattern": {
              "fillmode": "overlay",
              "size": 10,
              "solidity": 0.2
             }
            },
            "type": "bar"
           }
          ],
          "barpolar": [
           {
            "marker": {
             "line": {
              "color": "#E5ECF6",
              "width": 0.5
             },
             "pattern": {
              "fillmode": "overlay",
              "size": 10,
              "solidity": 0.2
             }
            },
            "type": "barpolar"
           }
          ],
          "carpet": [
           {
            "aaxis": {
             "endlinecolor": "#2a3f5f",
             "gridcolor": "white",
             "linecolor": "white",
             "minorgridcolor": "white",
             "startlinecolor": "#2a3f5f"
            },
            "baxis": {
             "endlinecolor": "#2a3f5f",
             "gridcolor": "white",
             "linecolor": "white",
             "minorgridcolor": "white",
             "startlinecolor": "#2a3f5f"
            },
            "type": "carpet"
           }
          ],
          "choropleth": [
           {
            "colorbar": {
             "outlinewidth": 0,
             "ticks": ""
            },
            "type": "choropleth"
           }
          ],
          "contour": [
           {
            "colorbar": {
             "outlinewidth": 0,
             "ticks": ""
            },
            "colorscale": [
             [
              0,
              "#0d0887"
             ],
             [
              0.1111111111111111,
              "#46039f"
             ],
             [
              0.2222222222222222,
              "#7201a8"
             ],
             [
              0.3333333333333333,
              "#9c179e"
             ],
             [
              0.4444444444444444,
              "#bd3786"
             ],
             [
              0.5555555555555556,
              "#d8576b"
             ],
             [
              0.6666666666666666,
              "#ed7953"
             ],
             [
              0.7777777777777778,
              "#fb9f3a"
             ],
             [
              0.8888888888888888,
              "#fdca26"
             ],
             [
              1,
              "#f0f921"
             ]
            ],
            "type": "contour"
           }
          ],
          "contourcarpet": [
           {
            "colorbar": {
             "outlinewidth": 0,
             "ticks": ""
            },
            "type": "contourcarpet"
           }
          ],
          "heatmap": [
           {
            "colorbar": {
             "outlinewidth": 0,
             "ticks": ""
            },
            "colorscale": [
             [
              0,
              "#0d0887"
             ],
             [
              0.1111111111111111,
              "#46039f"
             ],
             [
              0.2222222222222222,
              "#7201a8"
             ],
             [
              0.3333333333333333,
              "#9c179e"
             ],
             [
              0.4444444444444444,
              "#bd3786"
             ],
             [
              0.5555555555555556,
              "#d8576b"
             ],
             [
              0.6666666666666666,
              "#ed7953"
             ],
             [
              0.7777777777777778,
              "#fb9f3a"
             ],
             [
              0.8888888888888888,
              "#fdca26"
             ],
             [
              1,
              "#f0f921"
             ]
            ],
            "type": "heatmap"
           }
          ],
          "histogram": [
           {
            "marker": {
             "pattern": {
              "fillmode": "overlay",
              "size": 10,
              "solidity": 0.2
             }
            },
            "type": "histogram"
           }
          ],
          "histogram2d": [
           {
            "colorbar": {
             "outlinewidth": 0,
             "ticks": ""
            },
            "colorscale": [
             [
              0,
              "#0d0887"
             ],
             [
              0.1111111111111111,
              "#46039f"
             ],
             [
              0.2222222222222222,
              "#7201a8"
             ],
             [
              0.3333333333333333,
              "#9c179e"
             ],
             [
              0.4444444444444444,
              "#bd3786"
             ],
             [
              0.5555555555555556,
              "#d8576b"
             ],
             [
              0.6666666666666666,
              "#ed7953"
             ],
             [
              0.7777777777777778,
              "#fb9f3a"
             ],
             [
              0.8888888888888888,
              "#fdca26"
             ],
             [
              1,
              "#f0f921"
             ]
            ],
            "type": "histogram2d"
           }
          ],
          "histogram2dcontour": [
           {
            "colorbar": {
             "outlinewidth": 0,
             "ticks": ""
            },
            "colorscale": [
             [
              0,
              "#0d0887"
             ],
             [
              0.1111111111111111,
              "#46039f"
             ],
             [
              0.2222222222222222,
              "#7201a8"
             ],
             [
              0.3333333333333333,
              "#9c179e"
             ],
             [
              0.4444444444444444,
              "#bd3786"
             ],
             [
              0.5555555555555556,
              "#d8576b"
             ],
             [
              0.6666666666666666,
              "#ed7953"
             ],
             [
              0.7777777777777778,
              "#fb9f3a"
             ],
             [
              0.8888888888888888,
              "#fdca26"
             ],
             [
              1,
              "#f0f921"
             ]
            ],
            "type": "histogram2dcontour"
           }
          ],
          "mesh3d": [
           {
            "colorbar": {
             "outlinewidth": 0,
             "ticks": ""
            },
            "type": "mesh3d"
           }
          ],
          "parcoords": [
           {
            "line": {
             "colorbar": {
              "outlinewidth": 0,
              "ticks": ""
             }
            },
            "type": "parcoords"
           }
          ],
          "pie": [
           {
            "automargin": true,
            "type": "pie"
           }
          ],
          "scatter": [
           {
            "fillpattern": {
             "fillmode": "overlay",
             "size": 10,
             "solidity": 0.2
            },
            "type": "scatter"
           }
          ],
          "scatter3d": [
           {
            "line": {
             "colorbar": {
              "outlinewidth": 0,
              "ticks": ""
             }
            },
            "marker": {
             "colorbar": {
              "outlinewidth": 0,
              "ticks": ""
             }
            },
            "type": "scatter3d"
           }
          ],
          "scattercarpet": [
           {
            "marker": {
             "colorbar": {
              "outlinewidth": 0,
              "ticks": ""
             }
            },
            "type": "scattercarpet"
           }
          ],
          "scattergeo": [
           {
            "marker": {
             "colorbar": {
              "outlinewidth": 0,
              "ticks": ""
             }
            },
            "type": "scattergeo"
           }
          ],
          "scattergl": [
           {
            "marker": {
             "colorbar": {
              "outlinewidth": 0,
              "ticks": ""
             }
            },
            "type": "scattergl"
           }
          ],
          "scattermap": [
           {
            "marker": {
             "colorbar": {
              "outlinewidth": 0,
              "ticks": ""
             }
            },
            "type": "scattermap"
           }
          ],
          "scattermapbox": [
           {
            "marker": {
             "colorbar": {
              "outlinewidth": 0,
              "ticks": ""
             }
            },
            "type": "scattermapbox"
           }
          ],
          "scatterpolar": [
           {
            "marker": {
             "colorbar": {
              "outlinewidth": 0,
              "ticks": ""
             }
            },
            "type": "scatterpolar"
           }
          ],
          "scatterpolargl": [
           {
            "marker": {
             "colorbar": {
              "outlinewidth": 0,
              "ticks": ""
             }
            },
            "type": "scatterpolargl"
           }
          ],
          "scatterternary": [
           {
            "marker": {
             "colorbar": {
              "outlinewidth": 0,
              "ticks": ""
             }
            },
            "type": "scatterternary"
           }
          ],
          "surface": [
           {
            "colorbar": {
             "outlinewidth": 0,
             "ticks": ""
            },
            "colorscale": [
             [
              0,
              "#0d0887"
             ],
             [
              0.1111111111111111,
              "#46039f"
             ],
             [
              0.2222222222222222,
              "#7201a8"
             ],
             [
              0.3333333333333333,
              "#9c179e"
             ],
             [
              0.4444444444444444,
              "#bd3786"
             ],
             [
              0.5555555555555556,
              "#d8576b"
             ],
             [
              0.6666666666666666,
              "#ed7953"
             ],
             [
              0.7777777777777778,
              "#fb9f3a"
             ],
             [
              0.8888888888888888,
              "#fdca26"
             ],
             [
              1,
              "#f0f921"
             ]
            ],
            "type": "surface"
           }
          ],
          "table": [
           {
            "cells": {
             "fill": {
              "color": "#EBF0F8"
             },
             "line": {
              "color": "white"
             }
            },
            "header": {
             "fill": {
              "color": "#C8D4E3"
             },
             "line": {
              "color": "white"
             }
            },
            "type": "table"
           }
          ]
         },
         "layout": {
          "annotationdefaults": {
           "arrowcolor": "#2a3f5f",
           "arrowhead": 0,
           "arrowwidth": 1
          },
          "autotypenumbers": "strict",
          "coloraxis": {
           "colorbar": {
            "outlinewidth": 0,
            "ticks": ""
           }
          },
          "colorscale": {
           "diverging": [
            [
             0,
             "#8e0152"
            ],
            [
             0.1,
             "#c51b7d"
            ],
            [
             0.2,
             "#de77ae"
            ],
            [
             0.3,
             "#f1b6da"
            ],
            [
             0.4,
             "#fde0ef"
            ],
            [
             0.5,
             "#f7f7f7"
            ],
            [
             0.6,
             "#e6f5d0"
            ],
            [
             0.7,
             "#b8e186"
            ],
            [
             0.8,
             "#7fbc41"
            ],
            [
             0.9,
             "#4d9221"
            ],
            [
             1,
             "#276419"
            ]
           ],
           "sequential": [
            [
             0,
             "#0d0887"
            ],
            [
             0.1111111111111111,
             "#46039f"
            ],
            [
             0.2222222222222222,
             "#7201a8"
            ],
            [
             0.3333333333333333,
             "#9c179e"
            ],
            [
             0.4444444444444444,
             "#bd3786"
            ],
            [
             0.5555555555555556,
             "#d8576b"
            ],
            [
             0.6666666666666666,
             "#ed7953"
            ],
            [
             0.7777777777777778,
             "#fb9f3a"
            ],
            [
             0.8888888888888888,
             "#fdca26"
            ],
            [
             1,
             "#f0f921"
            ]
           ],
           "sequentialminus": [
            [
             0,
             "#0d0887"
            ],
            [
             0.1111111111111111,
             "#46039f"
            ],
            [
             0.2222222222222222,
             "#7201a8"
            ],
            [
             0.3333333333333333,
             "#9c179e"
            ],
            [
             0.4444444444444444,
             "#bd3786"
            ],
            [
             0.5555555555555556,
             "#d8576b"
            ],
            [
             0.6666666666666666,
             "#ed7953"
            ],
            [
             0.7777777777777778,
             "#fb9f3a"
            ],
            [
             0.8888888888888888,
             "#fdca26"
            ],
            [
             1,
             "#f0f921"
            ]
           ]
          },
          "colorway": [
           "#636efa",
           "#EF553B",
           "#00cc96",
           "#ab63fa",
           "#FFA15A",
           "#19d3f3",
           "#FF6692",
           "#B6E880",
           "#FF97FF",
           "#FECB52"
          ],
          "font": {
           "color": "#2a3f5f"
          },
          "geo": {
           "bgcolor": "white",
           "lakecolor": "white",
           "landcolor": "#E5ECF6",
           "showlakes": true,
           "showland": true,
           "subunitcolor": "white"
          },
          "hoverlabel": {
           "align": "left"
          },
          "hovermode": "closest",
          "mapbox": {
           "style": "light"
          },
          "paper_bgcolor": "white",
          "plot_bgcolor": "#E5ECF6",
          "polar": {
           "angularaxis": {
            "gridcolor": "white",
            "linecolor": "white",
            "ticks": ""
           },
           "bgcolor": "#E5ECF6",
           "radialaxis": {
            "gridcolor": "white",
            "linecolor": "white",
            "ticks": ""
           }
          },
          "scene": {
           "xaxis": {
            "backgroundcolor": "#E5ECF6",
            "gridcolor": "white",
            "gridwidth": 2,
            "linecolor": "white",
            "showbackground": true,
            "ticks": "",
            "zerolinecolor": "white"
           },
           "yaxis": {
            "backgroundcolor": "#E5ECF6",
            "gridcolor": "white",
            "gridwidth": 2,
            "linecolor": "white",
            "showbackground": true,
            "ticks": "",
            "zerolinecolor": "white"
           },
           "zaxis": {
            "backgroundcolor": "#E5ECF6",
            "gridcolor": "white",
            "gridwidth": 2,
            "linecolor": "white",
            "showbackground": true,
            "ticks": "",
            "zerolinecolor": "white"
           }
          },
          "shapedefaults": {
           "line": {
            "color": "#2a3f5f"
           }
          },
          "ternary": {
           "aaxis": {
            "gridcolor": "white",
            "linecolor": "white",
            "ticks": ""
           },
           "baxis": {
            "gridcolor": "white",
            "linecolor": "white",
            "ticks": ""
           },
           "bgcolor": "#E5ECF6",
           "caxis": {
            "gridcolor": "white",
            "linecolor": "white",
            "ticks": ""
           }
          },
          "title": {
           "x": 0.05
          },
          "xaxis": {
           "automargin": true,
           "gridcolor": "white",
           "linecolor": "white",
           "ticks": "",
           "title": {
            "standoff": 15
           },
           "zerolinecolor": "white",
           "zerolinewidth": 2
          },
          "yaxis": {
           "automargin": true,
           "gridcolor": "white",
           "linecolor": "white",
           "ticks": "",
           "title": {
            "standoff": 15
           },
           "zerolinecolor": "white",
           "zerolinewidth": 2
          }
         }
        },
        "title": {
         "text": "Distribusi Metode Transaksi Berdasarkan Lokasi"
        },
        "xaxis": {
         "anchor": "y",
         "domain": [
          0,
          1
         ],
         "title": {
          "text": "Location"
         }
        },
        "yaxis": {
         "anchor": "x",
         "domain": [
          0,
          1
         ],
         "title": {
          "text": "Percent"
         },
         "type": "log"
        }
       }
      }
     },
     "metadata": {},
     "output_type": "display_data"
    }
   ],
   "source": [
    "# Cell ini membuat group bar chart berdasarkan Location dan Payment Method untuk menghitung persentase metode pembayaran yang digunakan per lokasi\n",
    "\n",
    "dist_transaksi_per_metode = df.groupby('Location')['Payment Method'].value_counts(normalize=True).reset_index(name='Percent')\n",
    "dist_transaksi_per_metode['Percent'] *= 100\n",
    "\n",
    "fig4 = px.bar(dist_transaksi_per_metode, x='Location', y='Percent', title='Distribusi Metode Transaksi Berdasarkan Lokasi', \n",
    "             color='Payment Method', barmode='group', log_y=True,\n",
    "            text = dist_transaksi_per_metode['Percent'].map('{:.2f}'.format))\n",
    "\n",
    "fig4.update_traces(texttemplate='%{text}%', textposition='outside')\n",
    "fig4.show()"
   ]
  },
  {
   "cell_type": "markdown",
   "metadata": {},
   "source": [
    "<p>Melihat dari hasil visualisasi, karena target yang diminta adalah dalam pembuatan promo kartu kredit, maka tim promosi lebih baik menargetkan proo untuk lokasi In-Store dan Mobile App. Kedua lokasi lebih cenderung menggunakan pembayaran kartu kredit dibanding online.</p>"
   ]
  },
  {
   "cell_type": "markdown",
   "metadata": {},
   "source": [
    "## vi. Apakah ada Perbedaan Signifikan Total Spend pada Tipe Transaksi yang Menggunakan Kartu Kredit dibandingkan dengan yang Tidak?"
   ]
  },
  {
   "cell_type": "markdown",
   "metadata": {},
   "source": [
    "<p>Untuk membuat promo baru, tim data memiliki pemikiran bahwa pelanggan belanja dengan metode tertentu karena sebuah alasan tertentu seperti lebih mudah atau karena ada benefit tertentu. Maka dari itu tim data memiliki hipotesis:<br><br>\n",
    "<b>H0: Tidak terdapat perbedaan signifikan antara total spend pembayaran menggunakan kartu kredit dengan metode lain.<br> \n",
    "H1: Terdapat perbedaan signifikan antara total spend pembayaran menggunakan kartu kredit dengan metode lain.</b>"
   ]
  },
  {
   "cell_type": "code",
   "execution_count": null,
   "metadata": {},
   "outputs": [
    {
     "name": "stdout",
     "output_type": "stream",
     "text": [
      "Skewness: 11.02\n"
     ]
    }
   ],
   "source": [
    "# Cell ini mencari nilai skew untuk menentukan apakah data terdistribusi normal\n",
    "\n",
    "print(f'Skewness: {df[\"Total Spent\"].skew():.2f}')"
   ]
  },
  {
   "cell_type": "markdown",
   "metadata": {},
   "source": [
    "<p>Melihat hasil skewness, data tidak terdistribusi normal. Skewness bersifat berat positif. Hal ini mungkin terjadi karena terdapat nilai transaksi yang dijual dengan harga jauh lebih tinggi. Skewness ini terjadi secara alamai karena memang pada saat melakukan transaksi belanja, pasti ada beberapa barang atau jasa yang bernilai lebih mahal seperti berlian, jasa konsultasi dokter, pembelian tiket, dsb. Maka dari itu Outlier akan dibiarkan dalam analisis data. Untuk menguji nilai korelasi, saya akan menggunakan metode Mann Whitney U-Test yang mengetes relasi antara data kategorikal dengan data numerikal kontinu.</p>"
   ]
  },
  {
   "cell_type": "code",
   "execution_count": null,
   "metadata": {},
   "outputs": [
    {
     "name": "stdout",
     "output_type": "stream",
     "text": [
      "Nilai U Statistik: 9116192.00\n",
      "Nilai p-value: 0.04\n"
     ]
    }
   ],
   "source": [
    "# Cell ini menjalankan Mann Whitney U-Test untuk mendapatkan nilai U-Statistik dan p-value\n",
    "\n",
    "credit_card = df.query('`Payment Method` == \"Credit Card\"')['Total Spent']\n",
    "other_payment = df.query('`Payment Method` != \"Credit Card\"')['Total Spent']\n",
    "\n",
    "u_stat, p_value = stats.mannwhitneyu(credit_card, other_payment, alternative='two-sided')\n",
    "\n",
    "print(f\"Nilai U Statistik: {u_stat:.2f}\")\n",
    "print(f\"Nilai p-value: {p_value:.2f}\")"
   ]
  },
  {
   "cell_type": "markdown",
   "metadata": {},
   "source": [
    "<p>Dari hasil uji Mann Whitney U-Test, hipotesis null berhasil ditolah yang berarti bahwa iya, terdapat perbedaan signifikan dalam total spend antar transaksi yang menggunakan kartu kredit dengan yang tidak. Jika dilihat dari nilai U-Statistiknya, korelasi antara total spend dengan metode pembayaran kartu kredit memiliki korelasi yang kuat. Menggunakan korelasi ini, tim promo bisa menyesuaikan bagaimana nilai promo akan dibuat jika misalkan promo yang ingin dibuat adalah diskon pada minimal pembelajaan, atau mereka bisa menguntungkan pembelian produk yang harganya besar.</p>"
   ]
  },
  {
   "cell_type": "markdown",
   "metadata": {},
   "source": [
    "# Kesimpulan"
   ]
  },
  {
   "cell_type": "markdown",
   "metadata": {},
   "source": [
    "<p>Bagaimana cara meningkatkan jumlah nasabah baru sebesar 10% dengan membuat sebuah promosi baru yang didasari Kartu Kredit? Berdasarkan hasil analisis, pada saat perencenaan promosi yang akan dibuat nanti, tim promosi bisa memanfaatkan pemberian hadiah ketika user menggunakan kartu kredit saat membayar menggunakan kredit untuk kategori barang tertentu seperti kategori Shopping, Fitness, ataupun Housing and Utilities. Untuk membantu dalam proses pembuatan promosi juga, tim promo bisa melihat metode pembayaran Digital Wallet sebagai patokan pembentukan promosi karena metode ini adalah metode yang paling sering dilakukan. Melihat trend data transaksi dari waktu ke waktu juga, selalu terdapat peningkatan transaksi yang terjadi pada saat kuarter 4 yaitu Oktober, November, dan Desember. Tim promo bisa saja membuat promosi besar khusus untuk musim ini seperti promo khusus natal ataupun halloween. Walaupun tidak terdapat banyak perbedaan pada jenis lokasi toko yang dikunjungi pelanggan untuk melakukan transaksi, melihat trend transaksi yang terjadi berdasarkan payment method di setiap lokasi, tim promo bisa memfokuskan pembuatan promo da lokasi In-Store ataupun Mobile App. Terakhir utim promosi dapat membuatkan sebuah promo yang berfokus pada pembelian harga yang besar, karena melihat hasil analisis korelasi, pelanggan cenderung membayar produk yang mahal dengan menggunakan kartu kredit karena mungkin lebih mudah.</p>"
   ]
  }
 ],
 "metadata": {
  "kernelspec": {
   "display_name": "Hacktiv8",
   "language": "python",
   "name": "python3"
  },
  "language_info": {
   "codemirror_mode": {
    "name": "ipython",
    "version": 3
   },
   "file_extension": ".py",
   "mimetype": "text/x-python",
   "name": "python",
   "nbconvert_exporter": "python",
   "pygments_lexer": "ipython3",
   "version": "3.13.1"
  }
 },
 "nbformat": 4,
 "nbformat_minor": 2
}
